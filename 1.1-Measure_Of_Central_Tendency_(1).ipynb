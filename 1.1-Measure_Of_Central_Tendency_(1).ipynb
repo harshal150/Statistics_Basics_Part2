{
  "cells": [
    {
      "cell_type": "markdown",
      "id": "8def27d1-a3b2-4bef-8488-73cc6e8a25a7",
      "metadata": {
        "id": "8def27d1-a3b2-4bef-8488-73cc6e8a25a7"
      },
      "source": [
        "## Measure Of Central Tendency"
      ]
    },
    {
      "cell_type": "code",
      "execution_count": null,
      "id": "d2961496-39a0-4abd-ac92-ab25f6efcc1d",
      "metadata": {
        "id": "d2961496-39a0-4abd-ac92-ab25f6efcc1d"
      },
      "outputs": [],
      "source": [
        "## Mean(Average)\n",
        "age=[12,21,23,45,65,43,56,45,32,67,54,34]"
      ]
    },
    {
      "cell_type": "code",
      "execution_count": null,
      "id": "101ea2b6-ae81-404e-aa2f-f524b955cd44",
      "metadata": {
        "id": "101ea2b6-ae81-404e-aa2f-f524b955cd44",
        "outputId": "b11f8394-9d0e-4b72-e093-b807690ced81"
      },
      "outputs": [
        {
          "data": {
            "text/plain": [
              "41.416666666666664"
            ]
          },
          "execution_count": 2,
          "metadata": {},
          "output_type": "execute_result"
        }
      ],
      "source": [
        "import numpy as np\n",
        "np.mean(age)"
      ]
    },
    {
      "cell_type": "code",
      "execution_count": null,
      "id": "d88bbfa6-ae28-4dab-aca8-7c85550fea0f",
      "metadata": {
        "id": "d88bbfa6-ae28-4dab-aca8-7c85550fea0f"
      },
      "outputs": [],
      "source": [
        "weights=[54,45,34,54,34,67,54,56,75]"
      ]
    },
    {
      "cell_type": "code",
      "execution_count": null,
      "id": "5df3c060-d602-4508-b9e3-b4833b7e9ceb",
      "metadata": {
        "id": "5df3c060-d602-4508-b9e3-b4833b7e9ceb",
        "outputId": "258d2c58-40fe-4ee1-dbf0-99adb1fa3fe3"
      },
      "outputs": [
        {
          "data": {
            "text/plain": [
              "52.55555555555556"
            ]
          },
          "execution_count": 4,
          "metadata": {},
          "output_type": "execute_result"
        }
      ],
      "source": [
        "np.mean(weights)"
      ]
    },
    {
      "cell_type": "code",
      "execution_count": null,
      "id": "a382d9f5-cc2d-4148-a9ca-799982e903b5",
      "metadata": {
        "id": "a382d9f5-cc2d-4148-a9ca-799982e903b5"
      },
      "outputs": [],
      "source": [
        "import seaborn as sns\n",
        "df=sns.load_dataset('tips')"
      ]
    },
    {
      "cell_type": "code",
      "execution_count": null,
      "id": "beac29ab-5af0-4f86-9e6a-7fcf0e7fc97e",
      "metadata": {
        "id": "beac29ab-5af0-4f86-9e6a-7fcf0e7fc97e",
        "outputId": "05137092-2827-4042-d52d-07339e0e1532"
      },
      "outputs": [
        {
          "data": {
            "text/html": [
              "<div>\n",
              "<style scoped>\n",
              "    .dataframe tbody tr th:only-of-type {\n",
              "        vertical-align: middle;\n",
              "    }\n",
              "\n",
              "    .dataframe tbody tr th {\n",
              "        vertical-align: top;\n",
              "    }\n",
              "\n",
              "    .dataframe thead th {\n",
              "        text-align: right;\n",
              "    }\n",
              "</style>\n",
              "<table border=\"1\" class=\"dataframe\">\n",
              "  <thead>\n",
              "    <tr style=\"text-align: right;\">\n",
              "      <th></th>\n",
              "      <th>total_bill</th>\n",
              "      <th>tip</th>\n",
              "      <th>sex</th>\n",
              "      <th>smoker</th>\n",
              "      <th>day</th>\n",
              "      <th>time</th>\n",
              "      <th>size</th>\n",
              "    </tr>\n",
              "  </thead>\n",
              "  <tbody>\n",
              "    <tr>\n",
              "      <th>0</th>\n",
              "      <td>16.99</td>\n",
              "      <td>1.01</td>\n",
              "      <td>Female</td>\n",
              "      <td>No</td>\n",
              "      <td>Sun</td>\n",
              "      <td>Dinner</td>\n",
              "      <td>2</td>\n",
              "    </tr>\n",
              "    <tr>\n",
              "      <th>1</th>\n",
              "      <td>10.34</td>\n",
              "      <td>1.66</td>\n",
              "      <td>Male</td>\n",
              "      <td>No</td>\n",
              "      <td>Sun</td>\n",
              "      <td>Dinner</td>\n",
              "      <td>3</td>\n",
              "    </tr>\n",
              "    <tr>\n",
              "      <th>2</th>\n",
              "      <td>21.01</td>\n",
              "      <td>3.50</td>\n",
              "      <td>Male</td>\n",
              "      <td>No</td>\n",
              "      <td>Sun</td>\n",
              "      <td>Dinner</td>\n",
              "      <td>3</td>\n",
              "    </tr>\n",
              "    <tr>\n",
              "      <th>3</th>\n",
              "      <td>23.68</td>\n",
              "      <td>3.31</td>\n",
              "      <td>Male</td>\n",
              "      <td>No</td>\n",
              "      <td>Sun</td>\n",
              "      <td>Dinner</td>\n",
              "      <td>2</td>\n",
              "    </tr>\n",
              "    <tr>\n",
              "      <th>4</th>\n",
              "      <td>24.59</td>\n",
              "      <td>3.61</td>\n",
              "      <td>Female</td>\n",
              "      <td>No</td>\n",
              "      <td>Sun</td>\n",
              "      <td>Dinner</td>\n",
              "      <td>4</td>\n",
              "    </tr>\n",
              "  </tbody>\n",
              "</table>\n",
              "</div>"
            ],
            "text/plain": [
              "   total_bill   tip     sex smoker  day    time  size\n",
              "0       16.99  1.01  Female     No  Sun  Dinner     2\n",
              "1       10.34  1.66    Male     No  Sun  Dinner     3\n",
              "2       21.01  3.50    Male     No  Sun  Dinner     3\n",
              "3       23.68  3.31    Male     No  Sun  Dinner     2\n",
              "4       24.59  3.61  Female     No  Sun  Dinner     4"
            ]
          },
          "execution_count": 6,
          "metadata": {},
          "output_type": "execute_result"
        }
      ],
      "source": [
        "df.head()"
      ]
    },
    {
      "cell_type": "code",
      "execution_count": null,
      "id": "60e52ea0-4ff7-4a56-a638-fa6005dbf526",
      "metadata": {
        "id": "60e52ea0-4ff7-4a56-a638-fa6005dbf526",
        "outputId": "2f445b06-4049-4262-c658-655943ba19ac"
      },
      "outputs": [
        {
          "data": {
            "text/plain": [
              "19.78594262295082"
            ]
          },
          "execution_count": 7,
          "metadata": {},
          "output_type": "execute_result"
        }
      ],
      "source": [
        "np.mean(df['total_bill'])"
      ]
    },
    {
      "cell_type": "code",
      "execution_count": null,
      "id": "c400864d-e274-493f-b00d-068a0d448ce7",
      "metadata": {
        "id": "c400864d-e274-493f-b00d-068a0d448ce7",
        "outputId": "9a1c1b45-a057-4449-f204-f33abb0098bb"
      },
      "outputs": [
        {
          "data": {
            "text/plain": [
              "44.0"
            ]
          },
          "execution_count": 8,
          "metadata": {},
          "output_type": "execute_result"
        }
      ],
      "source": [
        "## median\n",
        "np.median(age)"
      ]
    },
    {
      "cell_type": "code",
      "execution_count": null,
      "id": "93fcb5c0-5f90-4acc-88f9-87b01b0b77b9",
      "metadata": {
        "id": "93fcb5c0-5f90-4acc-88f9-87b01b0b77b9"
      },
      "outputs": [],
      "source": [
        "age=[12,21,23,45,65,43,56,45,32,67,54,34,200]"
      ]
    },
    {
      "cell_type": "code",
      "execution_count": null,
      "id": "cbad1a70-8515-4da3-88ca-c3e0267ee958",
      "metadata": {
        "id": "cbad1a70-8515-4da3-88ca-c3e0267ee958",
        "outputId": "3d0f0bef-ecc2-4d42-b4d3-2c27caf095e2"
      },
      "outputs": [
        {
          "data": {
            "text/plain": [
              "53.61538461538461"
            ]
          },
          "execution_count": 12,
          "metadata": {},
          "output_type": "execute_result"
        }
      ],
      "source": [
        "np.mean(age)"
      ]
    },
    {
      "cell_type": "code",
      "execution_count": null,
      "id": "06a0e0d1-f36f-4864-9295-4c1e1f74e640",
      "metadata": {
        "id": "06a0e0d1-f36f-4864-9295-4c1e1f74e640",
        "outputId": "3cdbdab9-cfa5-4ca1-a165-ebccc9fb1678"
      },
      "outputs": [
        {
          "data": {
            "text/plain": [
              "45.0"
            ]
          },
          "execution_count": 13,
          "metadata": {},
          "output_type": "execute_result"
        }
      ],
      "source": [
        "np.median(age)"
      ]
    },
    {
      "cell_type": "code",
      "execution_count": null,
      "id": "8b18e55a-1dd8-4771-9e88-85eed973d056",
      "metadata": {
        "id": "8b18e55a-1dd8-4771-9e88-85eed973d056"
      },
      "outputs": [],
      "source": [
        "from scipy import stats"
      ]
    },
    {
      "cell_type": "code",
      "execution_count": null,
      "id": "af9325f1-4c26-4216-af13-aa0ce653a98e",
      "metadata": {
        "id": "af9325f1-4c26-4216-af13-aa0ce653a98e",
        "outputId": "75712eed-97c9-4f60-b98b-056f2e6c6336"
      },
      "outputs": [
        {
          "name": "stderr",
          "output_type": "stream",
          "text": [
            "/tmp/ipykernel_103/2474845003.py:1: FutureWarning: Unlike other reduction functions (e.g. `skew`, `kurtosis`), the default behavior of `mode` typically preserves the axis it acts along. In SciPy 1.11.0, this behavior will change: the default value of `keepdims` will become False, the `axis` over which the statistic is taken will be eliminated, and the value None will no longer be accepted. Set `keepdims` to True or False to avoid this warning.\n",
            "  stats.mode(age)\n"
          ]
        },
        {
          "data": {
            "text/plain": [
              "ModeResult(mode=array([45]), count=array([2]))"
            ]
          },
          "execution_count": 15,
          "metadata": {},
          "output_type": "execute_result"
        }
      ],
      "source": [
        "stats.mode(age)"
      ]
    },
    {
      "cell_type": "code",
      "execution_count": null,
      "id": "58f0631b-397f-4dd5-a013-7eea973717b0",
      "metadata": {
        "id": "58f0631b-397f-4dd5-a013-7eea973717b0",
        "outputId": "a341ca9b-40b5-41d4-8679-5718e55105e2"
      },
      "outputs": [
        {
          "data": {
            "text/plain": [
              "17.795"
            ]
          },
          "execution_count": 16,
          "metadata": {},
          "output_type": "execute_result"
        }
      ],
      "source": [
        "np.median(df['total_bill'])"
      ]
    },
    {
      "cell_type": "code",
      "execution_count": null,
      "id": "3aa993c1-ee37-44a4-9ae4-d9055ffd6229",
      "metadata": {
        "id": "3aa993c1-ee37-44a4-9ae4-d9055ffd6229"
      },
      "outputs": [],
      "source": []
    },
    {
      "cell_type": "code",
      "execution_count": null,
      "id": "6ec3546f-309f-4e2b-b1e5-bf6c1f9f3a0a",
      "metadata": {
        "id": "6ec3546f-309f-4e2b-b1e5-bf6c1f9f3a0a"
      },
      "outputs": [],
      "source": []
    },
    {
      "cell_type": "code",
      "execution_count": null,
      "id": "57885f48-63cb-4ab5-8e4f-6a712169d375",
      "metadata": {
        "id": "57885f48-63cb-4ab5-8e4f-6a712169d375"
      },
      "outputs": [],
      "source": []
    }
  ],
  "metadata": {
    "kernelspec": {
      "display_name": "Python 3 (ipykernel)",
      "language": "python",
      "name": "python3"
    },
    "language_info": {
      "codemirror_mode": {
        "name": "ipython",
        "version": 3
      },
      "file_extension": ".py",
      "mimetype": "text/x-python",
      "name": "python",
      "nbconvert_exporter": "python",
      "pygments_lexer": "ipython3",
      "version": "3.10.8"
    },
    "colab": {
      "provenance": []
    }
  },
  "nbformat": 4,
  "nbformat_minor": 5
}